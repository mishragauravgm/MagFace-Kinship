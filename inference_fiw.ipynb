{
 "cells": [
  {
   "cell_type": "code",
   "execution_count": 1,
   "metadata": {},
   "outputs": [],
   "source": [
    "import pandas as pd\n",
    "import numpy as np\n",
    "from itertools import chain\n",
    "from ast import literal_eval\n",
    "import seaborn as sns\n",
    "from sklearn.manifold import TSNE\n",
    "import matplotlib.pyplot as plt"
   ]
  },
  {
   "cell_type": "code",
   "execution_count": 2,
   "metadata": {},
   "outputs": [],
   "source": [
    "embeddings = pd.read_csv('run/embeddings_unseen.csv', usecols=['embeddings','family_id'], index_col=False,converters={'embeddings': literal_eval})\n",
    "embeddings_list = pd.DataFrame(list(embeddings.iloc[:,0]))\n",
    "embeddings_list['FID'] = embeddings['family_id']\n",
    "embeddings_list.sort_values(by='FID', inplace=True)\n",
    "embeddings_list.reset_index(drop=True, inplace=True)\n",
    "embeddings_list.to_csv('/home/mishra.g/thesis/code/MagFace/embeddings_unseen.csv', index=False)"
   ]
  }
 ],
 "metadata": {
  "kernelspec": {
   "display_name": "Python 3",
   "language": "python",
   "name": "python3"
  },
  "language_info": {
   "codemirror_mode": {
    "name": "ipython",
    "version": 3
   },
   "file_extension": ".py",
   "mimetype": "text/x-python",
   "name": "python",
   "nbconvert_exporter": "python",
   "pygments_lexer": "ipython3",
   "version": "3.7.6"
  }
 },
 "nbformat": 4,
 "nbformat_minor": 4
}
